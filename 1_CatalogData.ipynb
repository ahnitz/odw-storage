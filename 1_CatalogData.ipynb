{
 "cells": [
  {
   "cell_type": "markdown",
   "metadata": {},
   "source": [
    "## 1. PyCBC Tutorial: Accessing the Catalog of Binary Mergers and LIGO/Virgo Open Data\n",
    "\n",
    "We will be using the [PyCBC](http://github.com/ligo-cbc/pycbc) library, which is used to study gravitational-wave data, find astrophysical sources due to compact binary mergers, and study their parameters. These are some of the same tools that the LIGO and Virgo collaborations use to find gravitational waves in LIGO/Virgo data \n",
    "\n",
    "In this tutorial we will walk through how to get information about the catalog of binary mergers programmatically, and also how to read in detector strain data around each event, or from the full open data set released for LIGO's first observing run.\n",
    "\n",
    "Additional [examples](http://pycbc.org/pycbc/latest/html/#library-examples-and-interactive-tutorials) and module level documentation are [here](http://pycbc.org/pycbc/latest/html/py-modindex.html)"
   ]
  },
  {
   "cell_type": "markdown",
   "metadata": {},
   "source": [
    "#### Getting the software environment setup\n",
    "\n",
    "PyCBC is installable through pip, but also relies on portions of the [LALSuite]() c-library. A bundled version of this suitable for use with PyCBC is also available on Mac / Linux through pip. These can be installed as follows within the notebook."
   ]
  },
  {
   "cell_type": "code",
   "execution_count": 1,
   "metadata": {
    "collapsed": true
   },
   "outputs": [
    {
     "name": "stdout",
     "output_type": "stream",
     "text": [
      "Requirement already satisfied: lalsuite in /home/ahnitz/projects/workshop/env/lib/python2.7/site-packages\n",
      "Requirement already satisfied: pycbc in /home/ahnitz/.local/lib/python2.7/site-packages/PyCBC-3f598d-py2.7.egg\n",
      "Requirement already satisfied: numpy>=1.7 in /home/ahnitz/.local/lib/python2.7/site-packages (from lalsuite)\n",
      "Requirement already satisfied: Mako>=1.0.1 in /home/ahnitz/.local/lib/python2.7/site-packages (from pycbc)\n",
      "Requirement already satisfied: argparse>=1.3.0 in /home/ahnitz/.local/lib/python2.7/site-packages (from pycbc)\n",
      "Requirement already satisfied: decorator>=3.4.2 in /home/ahnitz/.local/lib/python2.7/site-packages (from pycbc)\n",
      "Requirement already satisfied: scipy>=0.13.0 in /home/ahnitz/.local/lib/python2.7/site-packages (from pycbc)\n",
      "Requirement already satisfied: weave>=0.16.0 in /home/ahnitz/.local/lib/python2.7/site-packages/weave-0.16.0-py2.7.egg (from pycbc)\n",
      "Requirement already satisfied: unittest2 in /home/ahnitz/.local/lib/python2.7/site-packages/unittest2-1.1.0-py2.7.egg (from pycbc)\n",
      "Requirement already satisfied: matplotlib>=1.3.1 in /home/ahnitz/.local/lib/python2.7/site-packages (from pycbc)\n",
      "Requirement already satisfied: pillow in /home/ahnitz/.local/lib/python2.7/site-packages (from pycbc)\n",
      "Requirement already satisfied: h5py>=2.5 in /home/ahnitz/.local/lib/python2.7/site-packages (from pycbc)\n",
      "Requirement already satisfied: jinja2 in /home/ahnitz/.local/lib/python2.7/site-packages (from pycbc)\n",
      "Requirement already satisfied: astropy==2.0.3 in /home/ahnitz/.local/lib/python2.7/site-packages (from pycbc)\n",
      "Requirement already satisfied: mpld3>=0.3 in /home/ahnitz/.local/lib/python2.7/site-packages (from pycbc)\n",
      "Requirement already satisfied: pyRXP>=2.1.0 in /home/ahnitz/.local/lib/python2.7/site-packages/pyRXP-2.1.0-py2.7-linux-x86_64.egg (from pycbc)\n",
      "Requirement already satisfied: pycbc-glue-obsolete==1.1.0 in /home/ahnitz/.local/lib/python2.7/site-packages/pycbc_glue_obsolete-1.1.0-py2.7-linux-x86_64.egg (from pycbc)\n",
      "Requirement already satisfied: kombine>=0.8.2 in /home/ahnitz/.local/lib/python2.7/site-packages/kombine-0.8.2-py2.7.egg (from pycbc)\n",
      "Requirement already satisfied: emcee==2.2.1 in /home/ahnitz/.local/lib/python2.7/site-packages/emcee-2.2.1-py2.7.egg (from pycbc)\n",
      "Requirement already satisfied: corner>=2.0.1 in /home/ahnitz/.local/lib/python2.7/site-packages/corner-2.0.1-py2.7.egg (from pycbc)\n",
      "Requirement already satisfied: requests>=1.2.1 in /home/ahnitz/.local/lib/python2.7/site-packages (from pycbc)\n",
      "Requirement already satisfied: beautifulsoup4>=4.6.0 in /home/ahnitz/.local/lib/python2.7/site-packages/beautifulsoup4-4.6.0-py2.7.egg (from pycbc)\n",
      "Requirement already satisfied: MarkupSafe>=0.9.2 in /home/ahnitz/.local/lib/python2.7/site-packages (from Mako>=1.0.1->pycbc)\n",
      "Requirement already satisfied: six>=1.4 in /home/ahnitz/.local/lib/python2.7/site-packages (from unittest2->pycbc)\n",
      "Requirement already satisfied: traceback2 in /home/ahnitz/.local/lib/python2.7/site-packages/traceback2-1.4.0-py2.7.egg (from unittest2->pycbc)\n",
      "Requirement already satisfied: python-dateutil in /home/ahnitz/.local/lib/python2.7/site-packages (from matplotlib>=1.3.1->pycbc)\n",
      "Requirement already satisfied: functools32 in /home/ahnitz/.local/lib/python2.7/site-packages (from matplotlib>=1.3.1->pycbc)\n",
      "Requirement already satisfied: subprocess32 in /home/ahnitz/.local/lib/python2.7/site-packages (from matplotlib>=1.3.1->pycbc)\n",
      "Requirement already satisfied: pytz in /home/ahnitz/.local/lib/python2.7/site-packages (from matplotlib>=1.3.1->pycbc)\n",
      "Requirement already satisfied: cycler>=0.10 in /home/ahnitz/.local/lib/python2.7/site-packages (from matplotlib>=1.3.1->pycbc)\n",
      "Requirement already satisfied: pyparsing!=2.0.4,!=2.1.2,!=2.1.6,>=1.5.6 in /home/ahnitz/.local/lib/python2.7/site-packages (from matplotlib>=1.3.1->pycbc)\n",
      "Requirement already satisfied: olefile in /home/ahnitz/.local/lib/python2.7/site-packages (from pillow->pycbc)\n",
      "Requirement already satisfied: pytest>=2.8 in /home/ahnitz/.local/lib/python2.7/site-packages (from astropy==2.0.3->pycbc)\n",
      "Requirement already satisfied: urllib3<1.23,>=1.21.1 in /home/ahnitz/.local/lib/python2.7/site-packages (from requests>=1.2.1->pycbc)\n",
      "Requirement already satisfied: idna<2.7,>=2.5 in /home/ahnitz/.local/lib/python2.7/site-packages (from requests>=1.2.1->pycbc)\n",
      "Requirement already satisfied: chardet<3.1.0,>=3.0.2 in /home/ahnitz/.local/lib/python2.7/site-packages (from requests>=1.2.1->pycbc)\n",
      "Requirement already satisfied: certifi>=2017.4.17 in /home/ahnitz/.local/lib/python2.7/site-packages (from requests>=1.2.1->pycbc)\n",
      "Requirement already satisfied: linecache2 in /home/ahnitz/.local/lib/python2.7/site-packages/linecache2-1.0.0-py2.7.egg (from traceback2->unittest2->pycbc)\n",
      "Requirement already satisfied: funcsigs; python_version < \"3.0\" in /home/ahnitz/.local/lib/python2.7/site-packages (from pytest>=2.8->astropy==2.0.3->pycbc)\n",
      "Requirement already satisfied: attrs>=17.2.0 in /home/ahnitz/.local/lib/python2.7/site-packages (from pytest>=2.8->astropy==2.0.3->pycbc)\n",
      "Requirement already satisfied: setuptools in /home/ahnitz/.local/lib/python2.7/site-packages (from pytest>=2.8->astropy==2.0.3->pycbc)\n",
      "Requirement already satisfied: py>=1.5.0 in /home/ahnitz/.local/lib/python2.7/site-packages (from pytest>=2.8->astropy==2.0.3->pycbc)\n",
      "Requirement already satisfied: pluggy<0.7,>=0.5 in /home/ahnitz/.local/lib/python2.7/site-packages (from pytest>=2.8->astropy==2.0.3->pycbc)\n",
      "\u001b[33mYou are using pip version 9.0.1, however version 9.0.3 is available.\n",
      "You should consider upgrading via the 'pip install --upgrade pip' command.\u001b[0m\n"
     ]
    }
   ],
   "source": [
    "!pip install lalsuite pycbc"
   ]
  },
  {
   "cell_type": "markdown",
   "metadata": {},
   "source": [
    "### 1.1 Catalog of Binary Mergers\n",
    "\n",
    "PyCBC provides an [API](http://pycbc.org/pycbc/latest/html/catalog.html) to look at the catalog of binary mergers a few examples below. Some key information, such as the 'chirp' mass of a binary merge can be retrieved."
   ]
  },
  {
   "cell_type": "markdown",
   "metadata": {},
   "source": [
    "#### What binary mergers are in the catalog? ####"
   ]
  },
  {
   "cell_type": "code",
   "execution_count": 2,
   "metadata": {},
   "outputs": [
    {
     "name": "stdout",
     "output_type": "stream",
     "text": [
      "LVT151012\n",
      "GW170608\n",
      "GW150914\n",
      "GW170814\n",
      "GW170817\n",
      "GW170104\n",
      "GW151226\n"
     ]
    }
   ],
   "source": [
    "from pycbc import catalog\n",
    "\n",
    "### List the mergers in the catalog\n",
    "for merger_name in catalog.Catalog():\n",
    "    print(merger_name)"
   ]
  },
  {
   "cell_type": "markdown",
   "metadata": {},
   "source": [
    "#### How can I get parameters? ####\n",
    "\n",
    "One can also retrieve some of the basic parameters of each source\n",
    "from the catalog directly as follows. Note that all parameters are given\n",
    "in the *source* frame. This means that they include the effect of redshift."
   ]
  },
  {
   "cell_type": "code",
   "execution_count": 3,
   "metadata": {},
   "outputs": [
    {
     "name": "stdout",
     "output_type": "stream",
     "text": [
      "[ 15.1     7.9    28.1    24.1     1.188  21.1     8.9  ]\n",
      "GW170817: 1.188\n"
     ]
    }
   ],
   "source": [
    "# Either from the catalog as a whole\n",
    "mchirp = catalog.Catalog().median1d('mchirp')\n",
    "print(mchirp)\n",
    "\n",
    "# or from a specific merger\n",
    "mchirp_gw170817 = catalog.Merger(\"GW170817\").median1d('mchirp')\n",
    "print('GW170817: {}'.format(mchirp_gw170817))"
   ]
  },
  {
   "cell_type": "markdown",
   "metadata": {},
   "source": [
    "#### Transform Mass Parameters into the Detector Frame\n",
    "\n",
    "By default the above interface returns parameters in the *source* frame. Due to cosmological redshift, gravitational-waves are stretched as they travel. This causes the observed waveform to be different in the detector frame. This corresponds to an observed change in the mass parameters (for example). However, the relationship is fairly straighforward."
   ]
  },
  {
   "cell_type": "code",
   "execution_count": 4,
   "metadata": {},
   "outputs": [
    {
     "name": "stdout",
     "output_type": "stream",
     "text": [
      "Total Mass of GW150914\n",
      "Source Frame: 65.3 Solar Masses\n",
      "Detector Frame: 71.177 Solar Masses\n"
     ]
    }
   ],
   "source": [
    "m = catalog.Merger('GW150914')\n",
    "source_mtotal = m.median1d('mtotal')\n",
    "redshift = m.median1d('redshift')\n",
    "det_mtotal = source_mtotal * (1 + redshift)\n",
    "\n",
    "print('Total Mass of GW150914')\n",
    "print('Source Frame: {} Solar Masses'.format(source_mtotal))\n",
    "print('Detector Frame: {} Solar Masses'.format(det_mtotal))"
   ]
  },
  {
   "cell_type": "markdown",
   "metadata": {},
   "source": [
    "### 1.2 Accessing LIGO/Virgo data\n",
    "\n",
    "In this section, we will look into how to read detector data from the LIGO and Virgo instruments using the PyCBC API. It is possible to both get data around specific events, and also from the full data sets which have been released which cover the S5/S6/O1 LIGO observing runs. Data will be returned as [pycbc TimeSeries objects.](http://pycbc.org/pycbc/latest/html/pycbc.types.html#pycbc.types.timeseries.TimeSeries)"
   ]
  },
  {
   "cell_type": "markdown",
   "metadata": {},
   "source": [
    "#### Getting Data Around  Specific Binary Merger in the Catalog\n",
    "\n",
    "One can directly retrieve data around a specific even. Typically this data is centered on the event, though restrictions may apply which have not allowed this. This method by default gets the smallest version of the dataset. If additional data or specific versions are required, please see the following two additional ways to access data."
   ]
  },
  {
   "cell_type": "code",
   "execution_count": 5,
   "metadata": {},
   "outputs": [
    {
     "name": "stdout",
     "output_type": "stream",
     "text": [
      "Duration: 32.0s Start: 1126259446 End: 1126259478\n"
     ]
    },
    {
     "data": {
      "image/png": "[encoded data removed]",
      "text/plain": [
       "<matplotlib.figure.Figure at 0x7f3f5abb2a50>"
      ]
     },
     "metadata": {},
     "output_type": "display_data"
    }
   ],
   "source": [
    "%matplotlib inline\n",
    "\n",
    "import pylab\n",
    "\n",
    "m = catalog.Merger(\"GW150914\")\n",
    "\n",
    "# Get the time series data around GW150914 from Hanford\n",
    "# 'ts_han' is a pycbc.types.TimeSeries object which contains\n",
    "# gravitational-wave strain in this instance and has metadata\n",
    "# such as the start time, and sample rate.\n",
    "ts_han = m.strain('H1')\n",
    "\n",
    "# And now livingston\n",
    "ts_liv = m.strain('L1')\n",
    "\n",
    "# We can see how much data was returned and its boundaries\n",
    "# Note: All times are given in seconds since the GPS time epoch\n",
    "print(\"Duration: {}s Start: {} End: {}\".format(ts_han.duration, \n",
    "                                              int(ts_han.start_time),\n",
    "                                              int(ts_han.end_time)))\n",
    "\n",
    "# We can directly plot the time series as follows\n",
    "pylab.plot(ts_han.sample_times, ts_han)\n",
    "pylab.ylabel('Strain')\n",
    "pylab.xlabel('Time (s)')\n",
    "pylab.show()"
   ]
  },
  {
   "cell_type": "markdown",
   "metadata": {},
   "source": [
    "#### Getting Data from S5 / S6 / O1\n",
    "\n",
    "In this section we show how to read data from the bulk data release by LIGO. This currently covers the periods of teh S5, S6, and O1 analyses."
   ]
  },
  {
   "cell_type": "code",
   "execution_count": 6,
   "metadata": {},
   "outputs": [
    {
     "name": "stdout",
     "output_type": "stream",
     "text": [
      "Returned 64.0s of data at 4096Hz\n"
     ]
    }
   ],
   "source": [
    "from pycbc.frame import query_and_read_frame\n",
    "\n",
    "# Retrieve the approximate time of the merger\n",
    "m = catalog.Merger(\"GW150914\")\n",
    "start = m.time - 32\n",
    "end = m.time + 32\n",
    "\n",
    "# Get 64 seconds of data roughly around GW150914\n",
    "# The start / end time may be any in the publicly available data sets.\n",
    "ts = query_and_read_frame('LOSC', 'H1:LOSC-STRAIN', start, end)\n",
    "\n",
    "# If we wanted to retreive data from the Livingston detector\n",
    "# we'd use the following command instead\n",
    "# ts = query_and_read_frame('LOSC', 'L1:LOSC-STRAIN', start, end)\n",
    "\n",
    "print(\"Returned {}s of data at {}Hz\".format(ts.duration, ts.sample_rate))"
   ]
  },
  {
   "cell_type": "markdown",
   "metadata": {},
   "source": [
    "#### Directly Reading gravitational-wave Frame Files\n",
    "\n",
    "If you store LIGO data on your own computer then you can directly read in the data as follows."
   ]
  },
  {
   "cell_type": "code",
   "execution_count": 7,
   "metadata": {},
   "outputs": [
    {
     "name": "stdout",
     "output_type": "stream",
     "text": [
      "  % Total    % Received % Xferd  Average Speed   Time    Time     Time  Current\n",
      "                                 Dload  Upload   Total   Spent    Left  Speed\n",
      "100 1004k  100 1004k    0     0   521k      0  0:00:01  0:00:01 --:--:--  521k\n"
     ]
    }
   ],
   "source": [
    "# We'll first download some data for this demonstration\n",
    "!curl -O -J https://losc.ligo.org/s/events/LVT151012/H-H1_LOSC_4_V2-1128678884-32.gwf"
   ]
  },
  {
   "cell_type": "code",
   "execution_count": 8,
   "metadata": {
    "collapsed": true
   },
   "outputs": [],
   "source": [
    "from pycbc.frame import read_frame\n",
    "\n",
    "# Read the data directly from the Gravitational-Wave Frame (GWF) file.\n",
    "file_name = \"H-H1_LOSC_4_V2-1128678884-32.gwf\"\n",
    "\n",
    "# LOSC bulk data typically uses the same convention for internal channels names\n",
    "# Strain is typically IFO:LOSC-STRAIN, where IFO can be H1/L1/V1.\n",
    "channel_name = \"H1:LOSC-STRAIN\"\n",
    "\n",
    "start = 1128678884\n",
    "end = start + 32\n",
    "\n",
    "ts = read_frame(file_name, channel_name, start, end)"
   ]
  }
 ],
 "metadata": {
  "kernelspec": {
   "display_name": "Python 2",
   "language": "python",
   "name": "python2"
  },
  "language_info": {
   "codemirror_mode": {
    "name": "ipython",
    "version": 2
   },
   "file_extension": ".py",
   "mimetype": "text/x-python",
   "name": "python",
   "nbconvert_exporter": "python",
   "pygments_lexer": "ipython2",
   "version": "2.7.11"
  }
 },
 "nbformat": 4,
 "nbformat_minor": 2
}
